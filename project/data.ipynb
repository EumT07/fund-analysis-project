{
 "cells": [
  {
   "cell_type": "markdown",
   "id": "d2c06321",
   "metadata": {},
   "source": [
    "# Fund Data Analysis and Visualization"
   ]
  },
  {
   "cell_type": "markdown",
   "id": "3286001e",
   "metadata": {},
   "source": [
    "### Importing Required Libraries"
   ]
  },
  {
   "cell_type": "code",
   "execution_count": null,
   "id": "fc942a16",
   "metadata": {},
   "outputs": [],
   "source": [
    "import pandas as pd\n",
    "from typing import List, Dict\n",
    "import matplotlib.pyplot as plt\n",
    "import seaborn as sns"
   ]
  },
  {
   "cell_type": "markdown",
   "id": "d4a4592f",
   "metadata": {},
   "source": [
    "### Loading and Exploring Fund Data"
   ]
  },
  {
   "cell_type": "code",
   "execution_count": null,
   "id": "626ec54d",
   "metadata": {},
   "outputs": [],
   "source": [
    "root: str = \"./files/Funds.xlsx\"\n",
    "fund = pd.read_excel(root,parse_dates=[\"Date\"], date_format='%m/%d/%Y') # Transforming DATE : correct format\n",
    "fund.head(5)"
   ]
  },
  {
   "cell_type": "markdown",
   "id": "f10e9229",
   "metadata": {},
   "source": [
    "### Dataframe Information"
   ]
  },
  {
   "cell_type": "code",
   "execution_count": null,
   "id": "bbcff39b",
   "metadata": {},
   "outputs": [],
   "source": [
    "fund.info()"
   ]
  },
  {
   "cell_type": "markdown",
   "id": "2cb763ac",
   "metadata": {},
   "source": [
    "### Data Cleaning - Share Price Conversion"
   ]
  },
  {
   "cell_type": "code",
   "execution_count": null,
   "id": "0af7512b",
   "metadata": {},
   "outputs": [],
   "source": [
    "\n",
    "fund[\"Share_Price\"] = [ (lambda x: float(x.replace(\"$\",(\"\"))))(num) for num in fund[\"Share_Price\"] ]\n",
    "fund.head(5)"
   ]
  },
  {
   "cell_type": "markdown",
   "id": "922a3bb7",
   "metadata": {},
   "source": [
    "### Unique Fund Symbols Analysis"
   ]
  },
  {
   "cell_type": "code",
   "execution_count": null,
   "id": "4de5d133",
   "metadata": {},
   "outputs": [],
   "source": [
    "unique_values = fund[\"Symbol\"].unique()\n",
    "for x in unique_values:\n",
    "    print(x)"
   ]
  },
  {
   "cell_type": "markdown",
   "id": "2ffbb937",
   "metadata": {},
   "source": [
    "### Data Analysis and Visualization Functions"
   ]
  },
  {
   "cell_type": "code",
   "execution_count": null,
   "id": "9d35b639",
   "metadata": {},
   "outputs": [],
   "source": [
    "months = [\n",
    "    'January', 'February', 'March', 'April', \n",
    "    'May', 'June', 'July', 'August', \n",
    "    'September', 'October', 'November', 'December'\n",
    "]\n",
    "\n",
    "def plot_share_price_simple(df: pd.DataFrame, company_name: str, color: str, months: List[str] = months) -> None:\n",
    "    \"\"\"\n",
    "    Create a bar chart showing mean share price by month for a specific fund.\n",
    "    \n",
    "    Args:\n",
    "        df: DataFrame containing fund data\n",
    "        company_name: Name of the fund for title\n",
    "        color: Color for the bars\n",
    "        months: List of month names in order\n",
    "    \"\"\"\n",
    "    # Calculate mean values by month\n",
    "    data = df.groupby(df[\"Date\"].dt.month_name())[\"Share_Price\"].agg(\"mean\")\n",
    "    data.index = pd.Categorical(data.index, categories=months, ordered=True) # type: ignore\n",
    "    data = data.sort_index()\n",
    "    \n",
    "    y = data.values\n",
    "    x = data.index\n",
    "\n",
    "    # Create visualization\n",
    "    plt.figure(figsize=(7, 5))\n",
    "\n",
    "    # Add value labels on bars\n",
    "    for i, total in enumerate(y):\n",
    "        plt.text(i, total + 0.1, f'${total:.2f}',\n",
    "                 ha='center', weight='bold', color='black')\n",
    "\n",
    "    plt.bar(x, y, color=color)\n",
    "    plt.ylabel('Price $ USD')\n",
    "    plt.title(f'{company_name} - Mean Share Price by Month')\n",
    "    plt.xticks(rotation=30)\n",
    "    plt.grid(axis='y', alpha=0.3)\n",
    "    plt.tight_layout()\n",
    "    plt.show()\n",
    "    \n",
    "    return\n",
    "\n",
    "def get_fund_monthly_stats(df: pd.DataFrame, fund_name: str, months: List[str] = months) -> pd.DataFrame:\n",
    "    \"\"\"\n",
    "    Calculate and display monthly statistics for a fund's share price.\n",
    "    \n",
    "    Args:\n",
    "        df: DataFrame containing fund data\n",
    "        fund_name: Name of the fund for reporting\n",
    "        months: List of month names in order\n",
    "        \n",
    "    Returns:\n",
    "        DataFrame with monthly statistics\n",
    "    \"\"\"\n",
    "    agg_data = [\"count\", \"median\", \"mean\", \"max\", \"min\"]\n",
    "    \n",
    "    # Calculate statistics by month\n",
    "    data = df.groupby(df[\"Date\"].dt.month_name())[\"Share_Price\"].agg(agg_data) # type: ignore\n",
    "    data.index = pd.Categorical(data.index, categories=months, ordered=True)\n",
    "    data = data.sort_index()\n",
    "    \n",
    "    print(f\"=== MONTHLY STATISTICS - {fund_name} ===\")\n",
    "    print(data.round(3))\n",
    "    \n",
    "    return data\n",
    "\n",
    "def get_fund_info(df: pd.DataFrame, fund_name: str) -> pd.DataFrame:\n",
    "    \"\"\"\n",
    "    Filter dataframe to get data for a specific fund.\n",
    "    \n",
    "    Args:\n",
    "        df: Main DataFrame containing all funds data\n",
    "        fund_name: Symbol of the fund to filter\n",
    "        \n",
    "    Returns:\n",
    "        Filtered DataFrame with only the specified fund's data\n",
    "    \"\"\"\n",
    "    _filter = df[\"Symbol\"] == fund_name\n",
    "    data = df[_filter]\n",
    "    return data\n",
    " "
   ]
  },
  {
   "cell_type": "markdown",
   "id": "c9775242",
   "metadata": {},
   "source": [
    "## ACP Fund Analysis"
   ]
  },
  {
   "cell_type": "markdown",
   "id": "993d8c6c",
   "metadata": {},
   "source": [
    "### Filtering ACP Fund Data"
   ]
  },
  {
   "cell_type": "code",
   "execution_count": null,
   "id": "eb9c7bb0",
   "metadata": {},
   "outputs": [],
   "source": [
    "ACPDF = get_fund_info(fund,\"ACP\")\n",
    "ACPDF.head(5)"
   ]
  },
  {
   "cell_type": "markdown",
   "id": "e9965c4b",
   "metadata": {},
   "source": [
    "### Monthly Statistics for ACP Fund"
   ]
  },
  {
   "cell_type": "code",
   "execution_count": null,
   "id": "866dd374",
   "metadata": {},
   "outputs": [],
   "source": [
    "acp_stats = get_fund_monthly_stats(ACPDF, \"ACP\")"
   ]
  },
  {
   "cell_type": "markdown",
   "id": "5fc8314e",
   "metadata": {},
   "source": [
    "### ACP Fund Share Price Visualization"
   ]
  },
  {
   "cell_type": "code",
   "execution_count": null,
   "id": "60c9420d",
   "metadata": {},
   "outputs": [],
   "source": [
    "plot_share_price_simple(ACPDF,\"ACP\",\"#2E86AB\")"
   ]
  },
  {
   "cell_type": "markdown",
   "id": "565b21d9",
   "metadata": {},
   "source": [
    "## FOF Fund Analysis"
   ]
  },
  {
   "cell_type": "markdown",
   "id": "cff8bd6f",
   "metadata": {},
   "source": [
    "### Filtering FOF Fund Data"
   ]
  },
  {
   "cell_type": "code",
   "execution_count": null,
   "id": "6e8bc46c",
   "metadata": {},
   "outputs": [],
   "source": [
    "FOFDF = get_fund_info(fund,\"FOF\")\n",
    "FOFDF.head(5)"
   ]
  },
  {
   "cell_type": "markdown",
   "id": "a754511f",
   "metadata": {},
   "source": [
    "### Monthly Statistics for FOF Fund"
   ]
  },
  {
   "cell_type": "code",
   "execution_count": null,
   "id": "8c116321",
   "metadata": {},
   "outputs": [],
   "source": [
    "fof_stats = get_fund_monthly_stats(FOFDF, \"FOF\")"
   ]
  },
  {
   "cell_type": "markdown",
   "id": "8109081b",
   "metadata": {},
   "source": [
    "### FOF Fund Share Price Visualization"
   ]
  },
  {
   "cell_type": "code",
   "execution_count": null,
   "id": "fa4b7ffd",
   "metadata": {},
   "outputs": [],
   "source": [
    "plot_share_price_simple(FOFDF,\"FOF\",\"#A23B72\")"
   ]
  },
  {
   "cell_type": "markdown",
   "id": "520521aa",
   "metadata": {},
   "source": [
    "## EVT Fund Analysis"
   ]
  },
  {
   "cell_type": "markdown",
   "id": "31eff7c5",
   "metadata": {},
   "source": [
    "### Filtering EVT Fund Data "
   ]
  },
  {
   "cell_type": "code",
   "execution_count": null,
   "id": "14368e29",
   "metadata": {},
   "outputs": [],
   "source": [
    "EVTDF = get_fund_info(fund,\"EVT\")\n",
    "EVTDF.head(5)"
   ]
  },
  {
   "cell_type": "markdown",
   "id": "a374c2a4",
   "metadata": {},
   "source": [
    "### Monthly Statistics for EVT Fund"
   ]
  },
  {
   "cell_type": "code",
   "execution_count": null,
   "id": "a3d10ca9",
   "metadata": {},
   "outputs": [],
   "source": [
    "evt_stats = get_fund_monthly_stats(EVTDF, \"EVT\")"
   ]
  },
  {
   "cell_type": "markdown",
   "id": "f7f70b58",
   "metadata": {},
   "source": [
    "### EVT Fund Share Price Visualization"
   ]
  },
  {
   "cell_type": "code",
   "execution_count": null,
   "id": "5aab06f9",
   "metadata": {},
   "outputs": [],
   "source": [
    "plot_share_price_simple(EVTDF,\"EVT\",\"#F18F01\")"
   ]
  }
 ],
 "metadata": {
  "kernelspec": {
   "display_name": "scrap (3.12.8)",
   "language": "python",
   "name": "python3"
  },
  "language_info": {
   "codemirror_mode": {
    "name": "ipython",
    "version": 3
   },
   "file_extension": ".py",
   "mimetype": "text/x-python",
   "name": "python",
   "nbconvert_exporter": "python",
   "pygments_lexer": "ipython3",
   "version": "3.12.8"
  }
 },
 "nbformat": 4,
 "nbformat_minor": 5
}
