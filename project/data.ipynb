{
 "cells": [
  {
   "cell_type": "markdown",
   "id": "d2c06321",
   "metadata": {},
   "source": [
    "# Fund Data Analysis and Visualization"
   ]
  },
  {
   "cell_type": "markdown",
   "id": "3286001e",
   "metadata": {},
   "source": [
    "### Importing Required Libraries"
   ]
  },
  {
   "cell_type": "code",
   "execution_count": 1,
   "id": "fc942a16",
   "metadata": {},
   "outputs": [],
   "source": [
    "import pandas as pd\n",
    "from typing import List, Dict\n",
    "import matplotlib.pyplot as plt\n",
    "import seaborn as sns"
   ]
  },
  {
   "cell_type": "markdown",
   "id": "d4a4592f",
   "metadata": {},
   "source": [
    "### Loading and Exploring Fund Data"
   ]
  },
  {
   "cell_type": "code",
   "execution_count": 2,
   "id": "626ec54d",
   "metadata": {},
   "outputs": [
    {
     "data": {
      "text/html": [
       "<div>\n",
       "<style scoped>\n",
       "    .dataframe tbody tr th:only-of-type {\n",
       "        vertical-align: middle;\n",
       "    }\n",
       "\n",
       "    .dataframe tbody tr th {\n",
       "        vertical-align: top;\n",
       "    }\n",
       "\n",
       "    .dataframe thead th {\n",
       "        text-align: right;\n",
       "    }\n",
       "</style>\n",
       "<table border=\"1\" class=\"dataframe\">\n",
       "  <thead>\n",
       "    <tr style=\"text-align: right;\">\n",
       "      <th></th>\n",
       "      <th>Symbol</th>\n",
       "      <th>Date</th>\n",
       "      <th>Share_Price</th>\n",
       "      <th>Premiun|Discount</th>\n",
       "    </tr>\n",
       "  </thead>\n",
       "  <tbody>\n",
       "    <tr>\n",
       "      <th>0</th>\n",
       "      <td>ACP</td>\n",
       "      <td>2025-01-31</td>\n",
       "      <td>$6.10</td>\n",
       "      <td>-4.54%</td>\n",
       "    </tr>\n",
       "    <tr>\n",
       "      <th>1</th>\n",
       "      <td>ACP</td>\n",
       "      <td>2025-01-30</td>\n",
       "      <td>$6.04</td>\n",
       "      <td>-5.48%</td>\n",
       "    </tr>\n",
       "    <tr>\n",
       "      <th>2</th>\n",
       "      <td>ACP</td>\n",
       "      <td>2025-01-29</td>\n",
       "      <td>$6.00</td>\n",
       "      <td>-5.81%</td>\n",
       "    </tr>\n",
       "    <tr>\n",
       "      <th>3</th>\n",
       "      <td>ACP</td>\n",
       "      <td>2025-01-28</td>\n",
       "      <td>$6.00</td>\n",
       "      <td>-5.66%</td>\n",
       "    </tr>\n",
       "    <tr>\n",
       "      <th>4</th>\n",
       "      <td>ACP</td>\n",
       "      <td>2025-01-27</td>\n",
       "      <td>$5.98</td>\n",
       "      <td>-5.97%</td>\n",
       "    </tr>\n",
       "  </tbody>\n",
       "</table>\n",
       "</div>"
      ],
      "text/plain": [
       "  Symbol       Date Share_Price Premiun|Discount\n",
       "0    ACP 2025-01-31       $6.10           -4.54%\n",
       "1    ACP 2025-01-30       $6.04           -5.48%\n",
       "2    ACP 2025-01-29       $6.00           -5.81%\n",
       "3    ACP 2025-01-28       $6.00           -5.66%\n",
       "4    ACP 2025-01-27       $5.98           -5.97%"
      ]
     },
     "execution_count": 2,
     "metadata": {},
     "output_type": "execute_result"
    }
   ],
   "source": [
    "root: str = \"./files/Funds.xlsx\"\n",
    "fund = pd.read_excel(root,parse_dates=[\"Date\"], date_format='%m/%d/%Y') # Transforming DATE : correct format\n",
    "fund.head(5)"
   ]
  },
  {
   "cell_type": "markdown",
   "id": "f10e9229",
   "metadata": {},
   "source": [
    "### Dataframe Information"
   ]
  },
  {
   "cell_type": "code",
   "execution_count": 3,
   "id": "bbcff39b",
   "metadata": {},
   "outputs": [
    {
     "name": "stdout",
     "output_type": "stream",
     "text": [
      "<class 'pandas.core.frame.DataFrame'>\n",
      "RangeIndex: 605 entries, 0 to 604\n",
      "Data columns (total 4 columns):\n",
      " #   Column            Non-Null Count  Dtype         \n",
      "---  ------            --------------  -----         \n",
      " 0   Symbol            605 non-null    object        \n",
      " 1   Date              605 non-null    datetime64[ns]\n",
      " 2   Share_Price       605 non-null    object        \n",
      " 3   Premiun|Discount  605 non-null    object        \n",
      "dtypes: datetime64[ns](1), object(3)\n",
      "memory usage: 19.0+ KB\n"
     ]
    }
   ],
   "source": [
    "fund.info()"
   ]
  },
  {
   "cell_type": "markdown",
   "id": "2cb763ac",
   "metadata": {},
   "source": [
    "### Data Cleaning - Share Price Conversion"
   ]
  },
  {
   "cell_type": "code",
   "execution_count": 4,
   "id": "0af7512b",
   "metadata": {},
   "outputs": [
    {
     "data": {
      "text/html": [
       "<div>\n",
       "<style scoped>\n",
       "    .dataframe tbody tr th:only-of-type {\n",
       "        vertical-align: middle;\n",
       "    }\n",
       "\n",
       "    .dataframe tbody tr th {\n",
       "        vertical-align: top;\n",
       "    }\n",
       "\n",
       "    .dataframe thead th {\n",
       "        text-align: right;\n",
       "    }\n",
       "</style>\n",
       "<table border=\"1\" class=\"dataframe\">\n",
       "  <thead>\n",
       "    <tr style=\"text-align: right;\">\n",
       "      <th></th>\n",
       "      <th>Symbol</th>\n",
       "      <th>Date</th>\n",
       "      <th>Share_Price</th>\n",
       "      <th>Premiun|Discount</th>\n",
       "    </tr>\n",
       "  </thead>\n",
       "  <tbody>\n",
       "    <tr>\n",
       "      <th>0</th>\n",
       "      <td>ACP</td>\n",
       "      <td>2025-01-31</td>\n",
       "      <td>6.10</td>\n",
       "      <td>-4.54%</td>\n",
       "    </tr>\n",
       "    <tr>\n",
       "      <th>1</th>\n",
       "      <td>ACP</td>\n",
       "      <td>2025-01-30</td>\n",
       "      <td>6.04</td>\n",
       "      <td>-5.48%</td>\n",
       "    </tr>\n",
       "    <tr>\n",
       "      <th>2</th>\n",
       "      <td>ACP</td>\n",
       "      <td>2025-01-29</td>\n",
       "      <td>6.00</td>\n",
       "      <td>-5.81%</td>\n",
       "    </tr>\n",
       "    <tr>\n",
       "      <th>3</th>\n",
       "      <td>ACP</td>\n",
       "      <td>2025-01-28</td>\n",
       "      <td>6.00</td>\n",
       "      <td>-5.66%</td>\n",
       "    </tr>\n",
       "    <tr>\n",
       "      <th>4</th>\n",
       "      <td>ACP</td>\n",
       "      <td>2025-01-27</td>\n",
       "      <td>5.98</td>\n",
       "      <td>-5.97%</td>\n",
       "    </tr>\n",
       "  </tbody>\n",
       "</table>\n",
       "</div>"
      ],
      "text/plain": [
       "  Symbol       Date  Share_Price Premiun|Discount\n",
       "0    ACP 2025-01-31         6.10           -4.54%\n",
       "1    ACP 2025-01-30         6.04           -5.48%\n",
       "2    ACP 2025-01-29         6.00           -5.81%\n",
       "3    ACP 2025-01-28         6.00           -5.66%\n",
       "4    ACP 2025-01-27         5.98           -5.97%"
      ]
     },
     "execution_count": 4,
     "metadata": {},
     "output_type": "execute_result"
    }
   ],
   "source": [
    "\n",
    "fund[\"Share_Price\"] = [ (lambda x: float(x.replace(\"$\",(\"\"))))(num) for num in fund[\"Share_Price\"] ]\n",
    "fund.head(5)"
   ]
  },
  {
   "cell_type": "markdown",
   "id": "922a3bb7",
   "metadata": {},
   "source": [
    "### Unique Fund Symbols Analysis"
   ]
  },
  {
   "cell_type": "code",
   "execution_count": 5,
   "id": "4de5d133",
   "metadata": {},
   "outputs": [
    {
     "name": "stdout",
     "output_type": "stream",
     "text": [
      "ACP\n",
      "FOF\n",
      "EVT\n"
     ]
    }
   ],
   "source": [
    "unique_values = fund[\"Symbol\"].unique()\n",
    "for x in unique_values:\n",
    "    print(x)"
   ]
  },
  {
   "cell_type": "markdown",
   "id": "2ffbb937",
   "metadata": {},
   "source": [
    "### Data Analysis and Visualization Functions"
   ]
  },
  {
   "cell_type": "code",
   "execution_count": 6,
   "id": "9d35b639",
   "metadata": {},
   "outputs": [],
   "source": [
    "months = [\n",
    "    'January', 'February', 'March', 'April', \n",
    "    'May', 'June', 'July', 'August', \n",
    "    'September', 'October', 'November', 'December'\n",
    "]\n",
    "\n",
    "def plot_share_price_simple(df: pd.DataFrame, company_name: str, color: str, months: List[str] = months) -> None:\n",
    "    \"\"\"\n",
    "    Create a bar chart showing mean share price by month for a specific fund.\n",
    "    \n",
    "    Args:\n",
    "        df: DataFrame containing fund data\n",
    "        company_name: Name of the fund for title\n",
    "        color: Color for the bars\n",
    "        months: List of month names in order\n",
    "    \"\"\"\n",
    "    # Calculate mean values by month\n",
    "    data = df.groupby(df[\"Date\"].dt.month_name())[\"Share_Price\"].agg(\"mean\")\n",
    "    data.index = pd.Categorical(data.index, categories=months, ordered=True) # type: ignore\n",
    "    data = data.sort_index()\n",
    "    \n",
    "    y = data.values\n",
    "    x = data.index\n",
    "\n",
    "    # Create visualization\n",
    "    plt.figure(figsize=(7, 5))\n",
    "\n",
    "    # Add value labels on bars\n",
    "    for i, total in enumerate(y):\n",
    "        plt.text(i, total + 0.1, f'${total:.2f}',\n",
    "                 ha='center', weight='bold', color='black')\n",
    "\n",
    "    plt.bar(x, y, color=color)\n",
    "    plt.ylabel('Price $ USD')\n",
    "    plt.title(f'{company_name} - Mean Share Price by Month')\n",
    "    plt.xticks(rotation=30)\n",
    "    plt.grid(axis='y', alpha=0.3)\n",
    "    plt.tight_layout()\n",
    "    plt.show()\n",
    "    \n",
    "    return\n",
    "\n",
    "def get_fund_monthly_stats(df: pd.DataFrame, fund_name: str, months: List[str] = months) -> pd.DataFrame:\n",
    "    \"\"\"\n",
    "    Calculate and display monthly statistics for a fund's share price.\n",
    "    \n",
    "    Args:\n",
    "        df: DataFrame containing fund data\n",
    "        fund_name: Name of the fund for reporting\n",
    "        months: List of month names in order\n",
    "        \n",
    "    Returns:\n",
    "        DataFrame with monthly statistics\n",
    "    \"\"\"\n",
    "    agg_data = [\"count\", \"median\", \"mean\", \"max\", \"min\"]\n",
    "    \n",
    "    # Calculate statistics by month\n",
    "    data = df.groupby(df[\"Date\"].dt.month_name())[\"Share_Price\"].agg(agg_data) # type: ignore\n",
    "    data.index = pd.Categorical(data.index, categories=months, ordered=True)\n",
    "    data = data.sort_index()\n",
    "    \n",
    "    print(f\"=== MONTHLY STATISTICS - {fund_name} ===\")\n",
    "    print(data.round(3))\n",
    "    \n",
    "    return data\n",
    "\n",
    "def get_fund_info(df: pd.DataFrame, fund_name: str) -> pd.DataFrame:\n",
    "    \"\"\"\n",
    "    Filter dataframe to get data for a specific fund.\n",
    "    \n",
    "    Args:\n",
    "        df: Main DataFrame containing all funds data\n",
    "        fund_name: Symbol of the fund to filter\n",
    "        \n",
    "    Returns:\n",
    "        Filtered DataFrame with only the specified fund's data\n",
    "    \"\"\"\n",
    "    _filter = df[\"Symbol\"] == fund_name\n",
    "    data = df[_filter]\n",
    "    return data\n",
    " "
   ]
  },
  {
   "cell_type": "markdown",
   "id": "c9775242",
   "metadata": {},
   "source": [
    "## ACP Fund Analysis"
   ]
  },
  {
   "cell_type": "markdown",
   "id": "993d8c6c",
   "metadata": {},
   "source": [
    "### Filtering ACP Fund Data"
   ]
  },
  {
   "cell_type": "code",
   "execution_count": 7,
   "id": "eb9c7bb0",
   "metadata": {},
   "outputs": [
    {
     "data": {
      "text/html": [
       "<div>\n",
       "<style scoped>\n",
       "    .dataframe tbody tr th:only-of-type {\n",
       "        vertical-align: middle;\n",
       "    }\n",
       "\n",
       "    .dataframe tbody tr th {\n",
       "        vertical-align: top;\n",
       "    }\n",
       "\n",
       "    .dataframe thead th {\n",
       "        text-align: right;\n",
       "    }\n",
       "</style>\n",
       "<table border=\"1\" class=\"dataframe\">\n",
       "  <thead>\n",
       "    <tr style=\"text-align: right;\">\n",
       "      <th></th>\n",
       "      <th>Symbol</th>\n",
       "      <th>Date</th>\n",
       "      <th>Share_Price</th>\n",
       "      <th>Premiun|Discount</th>\n",
       "    </tr>\n",
       "  </thead>\n",
       "  <tbody>\n",
       "    <tr>\n",
       "      <th>0</th>\n",
       "      <td>ACP</td>\n",
       "      <td>2025-01-31</td>\n",
       "      <td>6.10</td>\n",
       "      <td>-4.54%</td>\n",
       "    </tr>\n",
       "    <tr>\n",
       "      <th>1</th>\n",
       "      <td>ACP</td>\n",
       "      <td>2025-01-30</td>\n",
       "      <td>6.04</td>\n",
       "      <td>-5.48%</td>\n",
       "    </tr>\n",
       "    <tr>\n",
       "      <th>2</th>\n",
       "      <td>ACP</td>\n",
       "      <td>2025-01-29</td>\n",
       "      <td>6.00</td>\n",
       "      <td>-5.81%</td>\n",
       "    </tr>\n",
       "    <tr>\n",
       "      <th>3</th>\n",
       "      <td>ACP</td>\n",
       "      <td>2025-01-28</td>\n",
       "      <td>6.00</td>\n",
       "      <td>-5.66%</td>\n",
       "    </tr>\n",
       "    <tr>\n",
       "      <th>4</th>\n",
       "      <td>ACP</td>\n",
       "      <td>2025-01-27</td>\n",
       "      <td>5.98</td>\n",
       "      <td>-5.97%</td>\n",
       "    </tr>\n",
       "  </tbody>\n",
       "</table>\n",
       "</div>"
      ],
      "text/plain": [
       "  Symbol       Date  Share_Price Premiun|Discount\n",
       "0    ACP 2025-01-31         6.10           -4.54%\n",
       "1    ACP 2025-01-30         6.04           -5.48%\n",
       "2    ACP 2025-01-29         6.00           -5.81%\n",
       "3    ACP 2025-01-28         6.00           -5.66%\n",
       "4    ACP 2025-01-27         5.98           -5.97%"
      ]
     },
     "execution_count": 7,
     "metadata": {},
     "output_type": "execute_result"
    }
   ],
   "source": [
    "ACPDF = get_fund_info(fund,\"ACP\")\n",
    "ACPDF.head(5)"
   ]
  },
  {
   "cell_type": "markdown",
   "id": "e9965c4b",
   "metadata": {},
   "source": [
    "### Monthly Statistics for ACP Fund"
   ]
  },
  {
   "cell_type": "code",
   "execution_count": 8,
   "id": "866dd374",
   "metadata": {},
   "outputs": [
    {
     "name": "stdout",
     "output_type": "stream",
     "text": [
      "=== MONTHLY STATISTICS - ACP ===\n",
      "           count  median   mean   max   min\n",
      "January       20    6.00  6.014  6.10  5.90\n",
      "February      19    6.12  6.122  6.23  5.99\n",
      "March         21    5.97  5.975  6.06  5.87\n",
      "April         21    5.53  5.531  5.88  5.17\n",
      "May           21    5.79  5.783  5.92  5.63\n",
      "June          20    5.85  5.858  5.91  5.76\n",
      "July          22    5.95  5.945  5.97  5.88\n",
      "August        20    5.96  5.952  5.98  5.89\n",
      "September     21    5.90  5.877  5.92  5.79\n",
      "October       17    5.67  5.678  5.80  5.54\n"
     ]
    }
   ],
   "source": [
    "acp_stats = get_fund_monthly_stats(ACPDF, \"ACP\")"
   ]
  },
  {
   "cell_type": "markdown",
   "id": "5fc8314e",
   "metadata": {},
   "source": [
    "### ACP Fund Share Price Visualization"
   ]
  },
  {
   "cell_type": "code",
   "execution_count": 9,
   "id": "60c9420d",
   "metadata": {},
   "outputs": [
    {
     "data": {
      "image/png": "[encoded data removed]",
      "text/plain": [
       "<Figure size 700x500 with 1 Axes>"
      ]
     },
     "metadata": {},
     "output_type": "display_data"
    }
   ],
   "source": [
    "plot_share_price_simple(ACPDF,\"ACP\",\"#2E86AB\")"
   ]
  },
  {
   "cell_type": "markdown",
   "id": "565b21d9",
   "metadata": {},
   "source": [
    "## FOF Fund Analysis"
   ]
  },
  {
   "cell_type": "markdown",
   "id": "cff8bd6f",
   "metadata": {},
   "source": [
    "### Filtering FOF Fund Data"
   ]
  },
  {
   "cell_type": "code",
   "execution_count": 10,
   "id": "6e8bc46c",
   "metadata": {},
   "outputs": [
    {
     "data": {
      "text/html": [
       "<div>\n",
       "<style scoped>\n",
       "    .dataframe tbody tr th:only-of-type {\n",
       "        vertical-align: middle;\n",
       "    }\n",
       "\n",
       "    .dataframe tbody tr th {\n",
       "        vertical-align: top;\n",
       "    }\n",
       "\n",
       "    .dataframe thead th {\n",
       "        text-align: right;\n",
       "    }\n",
       "</style>\n",
       "<table border=\"1\" class=\"dataframe\">\n",
       "  <thead>\n",
       "    <tr style=\"text-align: right;\">\n",
       "      <th></th>\n",
       "      <th>Symbol</th>\n",
       "      <th>Date</th>\n",
       "      <th>Share_Price</th>\n",
       "      <th>Premiun|Discount</th>\n",
       "    </tr>\n",
       "  </thead>\n",
       "  <tbody>\n",
       "    <tr>\n",
       "      <th>202</th>\n",
       "      <td>FOF</td>\n",
       "      <td>2025-01-31</td>\n",
       "      <td>12.60</td>\n",
       "      <td>2.36%</td>\n",
       "    </tr>\n",
       "    <tr>\n",
       "      <th>203</th>\n",
       "      <td>FOF</td>\n",
       "      <td>2025-01-30</td>\n",
       "      <td>12.55</td>\n",
       "      <td>1.87%</td>\n",
       "    </tr>\n",
       "    <tr>\n",
       "      <th>204</th>\n",
       "      <td>FOF</td>\n",
       "      <td>2025-01-29</td>\n",
       "      <td>12.43</td>\n",
       "      <td>1.72%</td>\n",
       "    </tr>\n",
       "    <tr>\n",
       "      <th>205</th>\n",
       "      <td>FOF</td>\n",
       "      <td>2025-01-28</td>\n",
       "      <td>12.44</td>\n",
       "      <td>1.72%</td>\n",
       "    </tr>\n",
       "    <tr>\n",
       "      <th>206</th>\n",
       "      <td>FOF</td>\n",
       "      <td>2025-01-27</td>\n",
       "      <td>12.51</td>\n",
       "      <td>2.79%</td>\n",
       "    </tr>\n",
       "  </tbody>\n",
       "</table>\n",
       "</div>"
      ],
      "text/plain": [
       "    Symbol       Date  Share_Price Premiun|Discount\n",
       "202    FOF 2025-01-31        12.60            2.36%\n",
       "203    FOF 2025-01-30        12.55            1.87%\n",
       "204    FOF 2025-01-29        12.43            1.72%\n",
       "205    FOF 2025-01-28        12.44            1.72%\n",
       "206    FOF 2025-01-27        12.51            2.79%"
      ]
     },
     "execution_count": 10,
     "metadata": {},
     "output_type": "execute_result"
    }
   ],
   "source": [
    "FOFDF = get_fund_info(fund,\"FOF\")\n",
    "FOFDF.head(5)"
   ]
  },
  {
   "cell_type": "markdown",
   "id": "a754511f",
   "metadata": {},
   "source": [
    "### Monthly Statistics for FOF Fund"
   ]
  },
  {
   "cell_type": "code",
   "execution_count": 11,
   "id": "8c116321",
   "metadata": {},
   "outputs": [
    {
     "name": "stdout",
     "output_type": "stream",
     "text": [
      "=== MONTHLY STATISTICS - FOF ===\n",
      "           count  median    mean    max    min\n",
      "January       20  12.715  12.736  13.03  12.43\n",
      "February      19  12.600  12.552  12.72  12.35\n",
      "March         21  12.110  12.092  12.40  11.83\n",
      "April         20  11.345  11.417  12.14  10.48\n",
      "May           21  11.940  11.943  12.16  11.83\n",
      "June          20  12.310  12.350  12.62  12.16\n",
      "July          22  12.730  12.753  12.89  12.63\n",
      "August        20  13.015  13.012  13.11  12.83\n",
      "September     21  13.000  12.988  13.14  12.82\n",
      "October       18  13.075  13.081  13.21  12.91\n"
     ]
    }
   ],
   "source": [
    "fof_stats = get_fund_monthly_stats(FOFDF, \"FOF\")"
   ]
  },
  {
   "cell_type": "markdown",
   "id": "8109081b",
   "metadata": {},
   "source": [
    "### FOF Fund Share Price Visualization"
   ]
  },
  {
   "cell_type": "code",
   "execution_count": 12,
   "id": "fa4b7ffd",
   "metadata": {},
   "outputs": [
    {
     "data": {
      "image/png": "[encoded data removed]",
      "text/plain": [
       "<Figure size 700x500 with 1 Axes>"
      ]
     },
     "metadata": {},
     "output_type": "display_data"
    }
   ],
   "source": [
    "plot_share_price_simple(FOFDF,\"FOF\",\"#A23B72\")"
   ]
  },
  {
   "cell_type": "markdown",
   "id": "520521aa",
   "metadata": {},
   "source": [
    "## EVT Fund Analysis"
   ]
  },
  {
   "cell_type": "markdown",
   "id": "31eff7c5",
   "metadata": {},
   "source": [
    "### Filtering EVT Fund Data "
   ]
  },
  {
   "cell_type": "code",
   "execution_count": 13,
   "id": "14368e29",
   "metadata": {},
   "outputs": [
    {
     "data": {
      "text/html": [
       "<div>\n",
       "<style scoped>\n",
       "    .dataframe tbody tr th:only-of-type {\n",
       "        vertical-align: middle;\n",
       "    }\n",
       "\n",
       "    .dataframe tbody tr th {\n",
       "        vertical-align: top;\n",
       "    }\n",
       "\n",
       "    .dataframe thead th {\n",
       "        text-align: right;\n",
       "    }\n",
       "</style>\n",
       "<table border=\"1\" class=\"dataframe\">\n",
       "  <thead>\n",
       "    <tr style=\"text-align: right;\">\n",
       "      <th></th>\n",
       "      <th>Symbol</th>\n",
       "      <th>Date</th>\n",
       "      <th>Share_Price</th>\n",
       "      <th>Premiun|Discount</th>\n",
       "    </tr>\n",
       "  </thead>\n",
       "  <tbody>\n",
       "    <tr>\n",
       "      <th>404</th>\n",
       "      <td>EVT</td>\n",
       "      <td>2025-01-31</td>\n",
       "      <td>24.56</td>\n",
       "      <td>-8.29%</td>\n",
       "    </tr>\n",
       "    <tr>\n",
       "      <th>405</th>\n",
       "      <td>EVT</td>\n",
       "      <td>2025-01-30</td>\n",
       "      <td>24.70</td>\n",
       "      <td>-8.38%</td>\n",
       "    </tr>\n",
       "    <tr>\n",
       "      <th>406</th>\n",
       "      <td>EVT</td>\n",
       "      <td>2025-01-29</td>\n",
       "      <td>24.44</td>\n",
       "      <td>-8.40%</td>\n",
       "    </tr>\n",
       "    <tr>\n",
       "      <th>407</th>\n",
       "      <td>EVT</td>\n",
       "      <td>2025-01-28</td>\n",
       "      <td>24.51</td>\n",
       "      <td>-8.17%</td>\n",
       "    </tr>\n",
       "    <tr>\n",
       "      <th>408</th>\n",
       "      <td>EVT</td>\n",
       "      <td>2025-01-27</td>\n",
       "      <td>24.56</td>\n",
       "      <td>-8.53%</td>\n",
       "    </tr>\n",
       "  </tbody>\n",
       "</table>\n",
       "</div>"
      ],
      "text/plain": [
       "    Symbol       Date  Share_Price Premiun|Discount\n",
       "404    EVT 2025-01-31        24.56           -8.29%\n",
       "405    EVT 2025-01-30        24.70           -8.38%\n",
       "406    EVT 2025-01-29        24.44           -8.40%\n",
       "407    EVT 2025-01-28        24.51           -8.17%\n",
       "408    EVT 2025-01-27        24.56           -8.53%"
      ]
     },
     "execution_count": 13,
     "metadata": {},
     "output_type": "execute_result"
    }
   ],
   "source": [
    "EVTDF = get_fund_info(fund,\"EVT\")\n",
    "EVTDF.head(5)"
   ]
  },
  {
   "cell_type": "markdown",
   "id": "a374c2a4",
   "metadata": {},
   "source": [
    "### Monthly Statistics for EVT Fund"
   ]
  },
  {
   "cell_type": "code",
   "execution_count": 14,
   "id": "a3d10ca9",
   "metadata": {},
   "outputs": [
    {
     "name": "stdout",
     "output_type": "stream",
     "text": [
      "=== MONTHLY STATISTICS - EVT ===\n",
      "           count  median    mean    max    min\n",
      "January       20  24.335  24.274  24.70  23.86\n",
      "February      19  24.290  24.246  24.73  23.61\n",
      "March         21  23.370  23.305  23.77  22.77\n",
      "April         20  21.685  21.749  23.35  20.31\n",
      "May           21  23.090  23.019  23.57  22.32\n",
      "June          20  23.500  23.546  24.10  23.25\n",
      "July          22  24.130  24.144  24.40  23.92\n",
      "August        20  24.060  24.021  24.44  23.60\n",
      "September     21  24.270  24.276  24.47  24.07\n",
      "October       17  24.460  24.443  24.68  24.16\n"
     ]
    }
   ],
   "source": [
    "evt_stats = get_fund_monthly_stats(EVTDF, \"EVT\")"
   ]
  },
  {
   "cell_type": "markdown",
   "id": "f7f70b58",
   "metadata": {},
   "source": [
    "### EVT Fund Share Price Visualization"
   ]
  },
  {
   "cell_type": "code",
   "execution_count": 15,
   "id": "5aab06f9",
   "metadata": {},
   "outputs": [
    {
     "data": {
      "image/png": "[encoded data removed]",
      "text/plain": [
       "<Figure size 700x500 with 1 Axes>"
      ]
     },
     "metadata": {},
     "output_type": "display_data"
    }
   ],
   "source": [
    "plot_share_price_simple(EVTDF,\"EVT\",\"#F18F01\")"
   ]
  }
 ],
 "metadata": {
  "kernelspec": {
   "display_name": "scrap (3.12.8)",
   "language": "python",
   "name": "python3"
  },
  "language_info": {
   "codemirror_mode": {
    "name": "ipython",
    "version": 3
   },
   "file_extension": ".py",
   "mimetype": "text/x-python",
   "name": "python",
   "nbconvert_exporter": "python",
   "pygments_lexer": "ipython3",
   "version": "3.12.8"
  }
 },
 "nbformat": 4,
 "nbformat_minor": 5
}
